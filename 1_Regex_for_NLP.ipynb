{
 "cells": [
  {
   "cell_type": "code",
   "execution_count": 1,
   "metadata": {},
   "outputs": [],
   "source": [
    "import re\n"
   ]
  },
  {
   "cell_type": "code",
   "execution_count": 2,
   "metadata": {},
   "outputs": [
    {
     "data": {
      "text/plain": [
       "'customer - i had given my phone no 1234567890 and email xxx@xxx.com customer-  here it is (123)-4567-890, and email xx1@gmail.comcustomer- i have an phone 0987654321 and email def@g42l.com customer-  here it is (567)-4164-098, and email abc@GMAIL.com'"
      ]
     },
     "execution_count": 2,
     "metadata": {},
     "output_type": "execute_result"
    }
   ],
   "source": [
    "chat1 =  'customer - i had given my phone no 1234567890 and email xxx@xxx.com '\n",
    "chat2 =  'customer-  here it is (123)-4567-890, and email xx1@gmail.com'\n",
    "chat3 =  'customer- i have an phone 0987654321 and email def@g42l.com '\n",
    "chat4 =  'customer-  here it is (567)-4164-098, and email abc@GMAIL.com'\n",
    "text =chat1+chat2+chat3+chat4 \n",
    "text"
   ]
  },
  {
   "cell_type": "code",
   "execution_count": 3,
   "metadata": {},
   "outputs": [
    {
     "data": {
      "text/plain": [
       "(['1234567890'], [], ['0987654321'], [])"
      ]
     },
     "execution_count": 3,
     "metadata": {},
     "output_type": "execute_result"
    }
   ],
   "source": [
    "# fetch continuous 10 digit no. pattern \n",
    "pattern1 = '\\d{10}'\n",
    "a1 = re.findall(pattern1 , chat1)\n",
    "a2 = re.findall(pattern1 , chat2)\n",
    "a3 = re.findall(pattern1 , chat3)\n",
    "a4 = re.findall(pattern1 , chat4)\n",
    "a1 , a2 , a3 , a4"
   ]
  },
  {
   "cell_type": "code",
   "execution_count": 4,
   "metadata": {},
   "outputs": [
    {
     "data": {
      "text/plain": [
       "([], ['(123)-4567-890'], [], ['(567)-4164-098'])"
      ]
     },
     "execution_count": 4,
     "metadata": {},
     "output_type": "execute_result"
    }
   ],
   "source": [
    "# fetch continuous 10 digit no. pattern \n",
    "pattern2 = '\\(\\d{3}\\)-\\d{4}-\\d{3}'\n",
    "a1 = re.findall(pattern2 , chat1)\n",
    "a2 = re.findall(pattern2 , chat2)\n",
    "a3 = re.findall(pattern2 , chat3)\n",
    "a4 = re.findall(pattern2 , chat4)\n",
    "a1 , a2 , a3 , a4"
   ]
  },
  {
   "cell_type": "code",
   "execution_count": 5,
   "metadata": {},
   "outputs": [
    {
     "data": {
      "text/plain": [
       "['1234567890', '(123)-4567-890', '0987654321', '(567)-4164-098']"
      ]
     },
     "execution_count": 5,
     "metadata": {},
     "output_type": "execute_result"
    }
   ],
   "source": [
    "# fetch continuous 10 digit no. pattern \n",
    "pattern = pattern1 +'|' + pattern2\n",
    "phone_no = re.findall(pattern , text)\n",
    "phone_no"
   ]
  },
  {
   "cell_type": "code",
   "execution_count": 6,
   "metadata": {},
   "outputs": [
    {
     "data": {
      "text/plain": [
       "['xxx@xxx.com', 'xx1@gmail.com', 'abc@GMAIL.com']"
      ]
     },
     "execution_count": 6,
     "metadata": {},
     "output_type": "execute_result"
    }
   ],
   "source": [
    "# find  email\n",
    "pattern_email = '[a-z0-9A-Z_]*@[a-zA-Z]*\\.com'\n",
    "emails = re.findall(pattern_email , text)\n",
    "emails"
   ]
  },
  {
   "cell_type": "code",
   "execution_count": 12,
   "metadata": {},
   "outputs": [
    {
     "data": {
      "text/plain": [
       "'customer - paid price 7896rs and issue with my order - 56735672 customer-  order price 678$ not get with id #3426756customer- my order is not get : order-44444444444 and price1111rs customer-  issue with order:549038923'"
      ]
     },
     "execution_count": 12,
     "metadata": {},
     "output_type": "execute_result"
    }
   ],
   "source": [
    "chat1 =  'customer - paid price 7896rs and issue with my order - 56735672 '\n",
    "chat2 =  'customer-  order price 678$ not get with id #3426756'\n",
    "chat3 =  'customer- my order is not get : order-44444444444 and price1111rs '\n",
    "chat4 =  'customer-  issue with order:549038923'\n",
    "text =chat1 + chat2+chat3+chat4 \n",
    "text"
   ]
  },
  {
   "cell_type": "code",
   "execution_count": 11,
   "metadata": {},
   "outputs": [
    {
     "data": {
      "text/plain": [
       "(['56735672'], ['3426756'], ['44444444444'], ['549038923'])"
      ]
     },
     "execution_count": 11,
     "metadata": {},
     "output_type": "execute_result"
    }
   ],
   "source": [
    "order_id_pattern = r\"order[^\\d]*(\\d*)\"\n",
    "order_id_1 = re.findall(order_id_pattern , chat1)\n",
    "order_id_2 = re.findall(order_id_pattern , chat2)\n",
    "order_id_3 = re.findall(order_id_pattern , chat3)\n",
    "order_id_4 = re.findall(order_id_pattern , chat4)\n",
    "order_id_1 , order_id_2 , order_id_3 ,order_id_4"
   ]
  },
  {
   "cell_type": "code",
   "execution_count": 13,
   "metadata": {},
   "outputs": [
    {
     "data": {
      "text/plain": [
       "(['7896'], ['678'], ['1111'], [])"
      ]
     },
     "execution_count": 13,
     "metadata": {},
     "output_type": "execute_result"
    }
   ],
   "source": [
    "price_pattern = r\"price[^\\d]*(\\d*)\"\n",
    "price_1 = re.findall(price_pattern , chat1)\n",
    "price_2 = re.findall(price_pattern , chat2)\n",
    "price_3 = re.findall(price_pattern , chat3)\n",
    "price_4 = re.findall(price_pattern , chat4)\n",
    "price_1 , price_2 , price_3 ,price_4"
   ]
  },
  {
   "cell_type": "markdown",
   "metadata": {},
   "source": [
    "# Extract info"
   ]
  },
  {
   "cell_type": "code",
   "execution_count": 14,
   "metadata": {},
   "outputs": [],
   "source": [
    "text = '''   \n",
    "Born\tMukesh Dhirubhai Ambani\n",
    "19 April 1957 (age 66)\n",
    "Aden, Colony of Aden\n",
    "(present-day Yemen)[1][2]\n",
    "Nationality\tIndian\n",
    "Alma mater\t\n",
    "St. Xavier's College, Mumbai\n",
    "Institute of Chemical Technology (B.E.)\n",
    "Occupation(s)\tChairman and MD, Reliance Industries\n",
    "Spouse\tNita Ambani ​(m. 1985)​[3]\n",
    "Children\t3\n",
    "Parents\t\n",
    "Dhirubhai Ambani (father)\n",
    "Kokilaben Ambani (mother)\n",
    "Relatives\tAnil Ambani (brother)\n",
    "Tina Ambani (sister-in-law)\n",
    "\n",
    "'''"
   ]
  },
  {
   "cell_type": "code",
   "execution_count": 15,
   "metadata": {},
   "outputs": [
    {
     "data": {
      "text/plain": [
       "['66']"
      ]
     },
     "execution_count": 15,
     "metadata": {},
     "output_type": "execute_result"
    }
   ],
   "source": [
    "age_p = r\"age (\\d+)\"\n",
    "age = re.findall(age_p , text)\n",
    "\n",
    "age"
   ]
  },
  {
   "cell_type": "code",
   "execution_count": 17,
   "metadata": {},
   "outputs": [
    {
     "data": {
      "text/plain": [
       "'Mukesh Dhirubhai Ambani'"
      ]
     },
     "execution_count": 17,
     "metadata": {},
     "output_type": "execute_result"
    }
   ],
   "source": [
    "born_p = r\"Born(.*)\"\n",
    "re.findall(born_p , text)[0].strip()"
   ]
  },
  {
   "cell_type": "code",
   "execution_count": 18,
   "metadata": {},
   "outputs": [
    {
     "data": {
      "text/plain": [
       "'19 April 1957'"
      ]
     },
     "execution_count": 18,
     "metadata": {},
     "output_type": "execute_result"
    }
   ],
   "source": [
    "birth = r\"Born.*\\n(.*)\\(age\"\n",
    "re.findall(birth , text)[0].strip()\n"
   ]
  },
  {
   "cell_type": "code",
   "execution_count": 19,
   "metadata": {},
   "outputs": [
    {
     "data": {
      "text/plain": [
       "'Aden, Colony of Aden'"
      ]
     },
     "execution_count": 19,
     "metadata": {},
     "output_type": "execute_result"
    }
   ],
   "source": [
    "address = r\"\\(age.*\\n(.*)\"\n",
    "re.findall(address , text)[0].strip()\n"
   ]
  },
  {
   "cell_type": "code",
   "execution_count": 20,
   "metadata": {},
   "outputs": [],
   "source": [
    "def get_info(pattern , text):\n",
    "    return re.findall(pattern , text)[0].strip()"
   ]
  },
  {
   "cell_type": "code",
   "execution_count": 23,
   "metadata": {},
   "outputs": [],
   "source": [
    "def get_extract_info(text):\n",
    "    age_p = r\"age (\\d+)\"\n",
    "    address_p = r\"\\(age.*\\n(.*)\"\n",
    "    birth_p = r\"Born.*\\n(.*)\\(age\"\n",
    "    parent_p = r\"Born(.*)\"\n",
    "    nationlity = r\"Nationality(.*)\"\n",
    "    \n",
    "    return {\n",
    "        'age' : get_info(age_p , text),\n",
    "        'parent' : get_info(parent_p , text),\n",
    "        'address' : get_info(address_p , text),\n",
    "        'birth_p' : get_info(birth_p , text),\n",
    "        'Nationality' : get_info(nationlity , text)\n",
    "    }"
   ]
  },
  {
   "cell_type": "code",
   "execution_count": 24,
   "metadata": {},
   "outputs": [
    {
     "data": {
      "text/plain": [
       "{'age': '66',\n",
       " 'parent': 'Mukesh Dhirubhai Ambani',\n",
       " 'address': 'Aden, Colony of Aden',\n",
       " 'birth_p': '19 April 1957',\n",
       " 'Nationality': 'Indian'}"
      ]
     },
     "execution_count": 24,
     "metadata": {},
     "output_type": "execute_result"
    }
   ],
   "source": [
    "get_extract_info(text)"
   ]
  }
 ],
 "metadata": {
  "kernelspec": {
   "display_name": "Python 3",
   "language": "python",
   "name": "python3"
  },
  "language_info": {
   "codemirror_mode": {
    "name": "ipython",
    "version": 3
   },
   "file_extension": ".py",
   "mimetype": "text/x-python",
   "name": "python",
   "nbconvert_exporter": "python",
   "pygments_lexer": "ipython3",
   "version": "3.11.4"
  },
  "orig_nbformat": 4
 },
 "nbformat": 4,
 "nbformat_minor": 2
}
